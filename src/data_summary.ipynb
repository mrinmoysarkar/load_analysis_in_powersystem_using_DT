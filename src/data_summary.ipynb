{
 "cells": [
  {
   "cell_type": "code",
   "execution_count": 1,
   "metadata": {},
   "outputs": [],
   "source": [
    "import pandas as pd\n",
    "import os"
   ]
  },
  {
   "cell_type": "code",
   "execution_count": 29,
   "metadata": {},
   "outputs": [
    {
     "name": "stdout",
     "output_type": "stream",
     "text": [
      "             2009     2010     2011     2012     2013     2014     2015  \\\n",
      "coast      1902.7  1829.49  2029.14  1822.01  1885.83  1863.68  1870.15   \n",
      "east      245.675  253.557  287.033  230.186  232.698  216.244  236.499   \n",
      "ercot      6401.7  6609.65  7587.64     6411   6475.9  6275.57  6536.56   \n",
      "far_west  101.315  113.584  147.463  128.586   155.34  143.095  148.198   \n",
      "north     140.161  154.544  182.914  139.545  130.282   124.91   133.13   \n",
      "north_c   2381.25  2640.45  3095.64  2482.76  2489.47   2358.1  2561.38   \n",
      "southern   581.22  537.469  579.998  538.933  548.224  601.689  547.446   \n",
      "south_c   1208.68  1162.89  1362.69  1146.24   1182.8  1167.43  1201.67   \n",
      "west      157.013  165.958  187.737  156.578  155.041  159.893  166.891   \n",
      "\n",
      "             2016     2017     2018  \n",
      "coast     1983.04   1885.9  2048.07  \n",
      "east      246.939  218.901  254.897  \n",
      "ercot      6928.8   6462.7  7368.88  \n",
      "far_west  154.919  184.758  249.702  \n",
      "north     137.676   119.93  145.043  \n",
      "north_c   2639.65  2409.43  2879.08  \n",
      "southern  614.522      593  633.203  \n",
      "south_c   1232.19  1233.02  1345.75  \n",
      "west       156.47  145.629   182.18  \n"
     ]
    }
   ],
   "source": [
    "rootDir = '../data/Daily_Load_Data/'\n",
    "allFiles = os.listdir(rootDir+'all_data/')\n",
    "cutFilePart = 'daily_2009_'\n",
    "uniqueNames = []\n",
    "for fileName in allFiles:\n",
    "    fileName = fileName[len(cutFilePart):]\n",
    "    if not fileName in uniqueNames:\n",
    "        uniqueNames.append(fileName)\n",
    "        \n",
    "# dataFrames = [pd.DataFrame()]*len(uniqueNames)\n",
    "\n",
    "testDataPart = 'daily_2018_'\n",
    "row = [u[:-4] for u in uniqueNames]\n",
    "col = [str(2009+i) for i in range(10)]\n",
    "df = pd.DataFrame(index=row,columns=col)\n",
    "\n",
    "for fileName in allFiles:\n",
    "    filePart = fileName[len(cutFilePart):]\n",
    "    indx = uniqueNames.index(filePart)\n",
    "    data = pd.read_csv(rootDir+'all_data/'+fileName,index_col='Time')\n",
    "    desc=data.describe()\n",
    "    col = filePart[:-4]\n",
    "    row = fileName[6:10]\n",
    "    df[row][col] = desc['Power']['std'] \n",
    "print(df)\n",
    "df.to_excel(\"std_of_all_data.xlsx\")"
   ]
  },
  {
   "cell_type": "code",
   "execution_count": null,
   "metadata": {},
   "outputs": [],
   "source": []
  }
 ],
 "metadata": {
  "kernelspec": {
   "display_name": "Python 3",
   "language": "python",
   "name": "python3"
  },
  "language_info": {
   "codemirror_mode": {
    "name": "ipython",
    "version": 3
   },
   "file_extension": ".py",
   "mimetype": "text/x-python",
   "name": "python",
   "nbconvert_exporter": "python",
   "pygments_lexer": "ipython3",
   "version": "3.6.4"
  }
 },
 "nbformat": 4,
 "nbformat_minor": 2
}
