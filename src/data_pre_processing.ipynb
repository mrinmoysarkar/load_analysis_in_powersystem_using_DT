{
 "cells": [
  {
   "cell_type": "code",
   "execution_count": 2,
   "metadata": {},
   "outputs": [],
   "source": [
    "import pandas as pd\n",
    "import os"
   ]
  },
  {
   "cell_type": "code",
   "execution_count": 33,
   "metadata": {},
   "outputs": [],
   "source": [
    "rootDir = '../data/Daily_Load_Data/'\n",
    "allFiles = os.listdir(rootDir+'all_data/')\n",
    "cutFilePart = 'daily_2009_'\n",
    "uniqueNames = []\n",
    "for fileName in allFiles:\n",
    "    fileName = fileName[len(cutFilePart):]\n",
    "    if not fileName in uniqueNames:\n",
    "        uniqueNames.append(fileName)\n",
    "        \n",
    "dataFrames = [pd.DataFrame()]*len(uniqueNames)\n",
    "\n",
    "testDataPart = 'daily_2018_'\n",
    "\n",
    "for fileName in allFiles:\n",
    "    if not testDataPart in fileName:\n",
    "        filePart = fileName[len(cutFilePart):]\n",
    "        indx = uniqueNames.index(filePart)\n",
    "        data = pd.read_csv(rootDir+'all_data/'+fileName,index_col='Time')\n",
    "        dataFrames[indx] = pd.concat([dataFrames[indx],data], axis=0, ignore_index=False)"
   ]
  },
  {
   "cell_type": "code",
   "execution_count": 34,
   "metadata": {},
   "outputs": [],
   "source": [
    "for (fileName,i) in zip(uniqueNames,range(len(uniqueNames))):\n",
    "    data = pd.DataFrame(dataFrames[i]['Power'])\n",
    "#     print(data.head())\n",
    "    data.to_csv(rootDir+'train/'+fileName)"
   ]
  },
  {
   "cell_type": "code",
   "execution_count": 31,
   "metadata": {},
   "outputs": [],
   "source": [
    "for fileName in uniqueNames:\n",
    "    data = pd.read_csv(rootDir+'all_data/daily_2018_'+fileName,index_col='Time')\n",
    "    data = pd.DataFrame(data['Power'])\n",
    "#     print(data.head())\n",
    "    data.to_csv(rootDir+'test/'+fileName)"
   ]
  },
  {
   "cell_type": "code",
   "execution_count": null,
   "metadata": {},
   "outputs": [],
   "source": []
  }
 ],
 "metadata": {
  "kernelspec": {
   "display_name": "Python 3",
   "language": "python",
   "name": "python3"
  },
  "language_info": {
   "codemirror_mode": {
    "name": "ipython",
    "version": 3
   },
   "file_extension": ".py",
   "mimetype": "text/x-python",
   "name": "python",
   "nbconvert_exporter": "python",
   "pygments_lexer": "ipython3",
   "version": "3.6.4"
  }
 },
 "nbformat": 4,
 "nbformat_minor": 2
}
