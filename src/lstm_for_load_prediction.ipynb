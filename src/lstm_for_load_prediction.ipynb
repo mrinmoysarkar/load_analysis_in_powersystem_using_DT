{
 "cells": [
  {
   "cell_type": "code",
   "execution_count": 1,
   "metadata": {},
   "outputs": [
    {
     "name": "stderr",
     "output_type": "stream",
     "text": [
      "Using TensorFlow backend.\n"
     ]
    }
   ],
   "source": [
    "from math import sqrt\n",
    "from numpy import split\n",
    "from numpy import array\n",
    "from pandas import read_csv\n",
    "from sklearn.metrics import mean_squared_error, explained_variance_score, mean_absolute_error, mean_squared_log_error, median_absolute_error, r2_score\n",
    "from matplotlib import pyplot\n",
    "from keras.models import Sequential\n",
    "from keras.layers import Dense\n",
    "from keras.layers import Flatten\n",
    "from keras.layers import LSTM\n",
    "from IPython.core.debugger import set_trace\n",
    "import keras\n",
    "import tensorflow as tf\n",
    "from sklearn.preprocessing import MinMaxScaler"
   ]
  },
  {
   "cell_type": "code",
   "execution_count": 2,
   "metadata": {},
   "outputs": [],
   "source": [
    "# config = tf.ConfigProto( device_count = {'GPU': 1 , 'CPU': 80} ) \n",
    "# sess = tf.Session(config=config) \n",
    "# keras.backend.set_session(sess)"
   ]
  },
  {
   "cell_type": "code",
   "execution_count": 28,
   "metadata": {},
   "outputs": [],
   "source": [
    "# convert history into inputs and outputs\n",
    "def to_supervised(train, n_input, n_out=365):\n",
    "    # flatten data\n",
    "#     data = train.values\n",
    "    data = train\n",
    "#     set_trace()\n",
    "    X, y = list(), list()\n",
    "    in_start = 0\n",
    "    # step over the entire history one time step at a time\n",
    "    for _ in range(len(data)):\n",
    "        # define the end of the input sequence\n",
    "        in_end = in_start + n_input\n",
    "        out_end = in_end + n_out\n",
    "        # ensure we have enough data for this instance\n",
    "        if out_end <= len(data):\n",
    "            x_input = data[in_start:in_end, 0]\n",
    "            x_input = x_input.reshape((len(x_input), 1))\n",
    "            X.append(x_input)\n",
    "            y.append(data[in_end:out_end, 0])\n",
    "        # move along one time step\n",
    "        in_start += 1\n",
    "#     set_trace()\n",
    "    return array(X), array(y)"
   ]
  },
  {
   "cell_type": "code",
   "execution_count": 50,
   "metadata": {},
   "outputs": [],
   "source": [
    "# train the model\n",
    "def build_model(train, n_input):\n",
    "    # prepare data\n",
    "    train_x, train_y = to_supervised(train, n_input)\n",
    "    # define parameters\n",
    "    verbose, epochs, batch_size = 1, 100, 256\n",
    "    n_timesteps, n_features, n_outputs = train_x.shape[1], train_x.shape[2], train_y.shape[1]\n",
    "    # define model\n",
    "    model = Sequential()\n",
    "    model.add(LSTM(200, activation='relu', input_shape=(n_timesteps, n_features)))\n",
    "    model.add(Dense(100, activation='relu'))\n",
    "    model.add(Dense(n_outputs, activation='relu'))\n",
    "    model.compile(loss='mse', optimizer='adam')\n",
    "    # fit network\n",
    "    model.fit(train_x, train_y, epochs=epochs, batch_size=batch_size, verbose=verbose)\n",
    "    return model"
   ]
  },
  {
   "cell_type": "code",
   "execution_count": 51,
   "metadata": {},
   "outputs": [],
   "source": [
    "def evaluate_model(train, test, n_input):\n",
    "    test = test.dropna(axis=0)\n",
    "    train = train.dropna(axis=0)\n",
    "    scaler = MinMaxScaler(feature_range=(-1,1))\n",
    "    train = scaler.fit_transform(train)\n",
    "    # fit model\n",
    "    model = build_model(train, n_input)\n",
    "    input_data = train[-n_input:]\n",
    "    input_data = input_data.reshape(1,n_input,1)\n",
    "    output_data = model.predict(input_data, verbose=1)\n",
    "    \n",
    "    output_data = output_data[0]\n",
    "#     set_trace()\n",
    "    output_data = output_data.reshape(len(output_data),1)\n",
    "    output_data = scaler.inverse_transform(output_data)\n",
    "    true_data = test.values\n",
    "    n = min(output_data.shape[0],true_data.shape[0])\n",
    "    y_pred = output_data[:n]\n",
    "    y_true = true_data[:n]\n",
    "    mse = mean_squared_error(y_true=y_true,y_pred=y_pred)\n",
    "    print('MSE:', mse)\n",
    "    evs = explained_variance_score(y_true=y_true,y_pred=y_pred)\n",
    "    print('EVS:', evs)\n",
    "    mae = mean_absolute_error(y_true=y_true,y_pred=y_pred)\n",
    "    print('MAE:', mae)\n",
    "    msle = mean_squared_log_error(y_true=y_true,y_pred=y_pred)\n",
    "    print('MSLE:', msle)\n",
    "    meae = median_absolute_error(y_true=y_true,y_pred=y_pred)\n",
    "    print('MEAE:', meae)\n",
    "    r2 = r2_score(y_true=y_true,y_pred=y_pred)\n",
    "    print('R2-Score:', r2)"
   ]
  },
  {
   "cell_type": "code",
   "execution_count": null,
   "metadata": {},
   "outputs": [
    {
     "name": "stdout",
     "output_type": "stream",
     "text": [
      "Epoch 1/100\n",
      "2557/2557 [==============================] - 30s 12ms/step - loss: 0.2149\n",
      "Epoch 2/100\n",
      "2557/2557 [==============================] - 27s 10ms/step - loss: 0.2136\n",
      "Epoch 3/100\n",
      "2557/2557 [==============================] - 27s 10ms/step - loss: nan\n",
      "Epoch 4/100\n",
      " 512/2557 [=====>........................] - ETA: 21s - loss: nan"
     ]
    }
   ],
   "source": [
    "train = read_csv('../data/Daily_Load_Data/train/coast.csv',index_col='Time')\n",
    "test = read_csv('../data/Daily_Load_Data/test/coast.csv',index_col='Time')\n",
    "n_input = 365\n",
    "evaluate_model(train, test, n_input)"
   ]
  },
  {
   "cell_type": "code",
   "execution_count": null,
   "metadata": {},
   "outputs": [],
   "source": []
  },
  {
   "cell_type": "code",
   "execution_count": null,
   "metadata": {},
   "outputs": [],
   "source": []
  },
  {
   "cell_type": "code",
   "execution_count": null,
   "metadata": {},
   "outputs": [],
   "source": []
  },
  {
   "cell_type": "code",
   "execution_count": null,
   "metadata": {},
   "outputs": [],
   "source": []
  }
 ],
 "metadata": {
  "kernelspec": {
   "display_name": "Python 3",
   "language": "python",
   "name": "python3"
  },
  "language_info": {
   "codemirror_mode": {
    "name": "ipython",
    "version": 3
   },
   "file_extension": ".py",
   "mimetype": "text/x-python",
   "name": "python",
   "nbconvert_exporter": "python",
   "pygments_lexer": "ipython3",
   "version": "3.6.5"
  }
 },
 "nbformat": 4,
 "nbformat_minor": 2
}
